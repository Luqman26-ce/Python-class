{
 "cells": [
  {
   "cell_type": "code",
   "execution_count": 7,
   "id": "cba0c1b1",
   "metadata": {},
   "outputs": [
    {
     "data": {
      "text/plain": [
       "Text(0.5, 1.0, 'y(t) vs t')"
      ]
     },
     "execution_count": 7,
     "metadata": {},
     "output_type": "execute_result"
    },
    {
     "data": {
      "image/png": "[encoded data removed]",
      "text/plain": [
       "<Figure size 640x480 with 1 Axes>"
      ]
     },
     "metadata": {},
     "output_type": "display_data"
    }
   ],
   "source": [
    "#question 1\n",
    "#initial condition\n",
    "y0=1\n",
    "import numpy as np\n",
    "import scipy as sc\n",
    "import matplotlib.pyplot as plt\n",
    "def dydt (y,t):\n",
    "    dydt=-2*y*t\n",
    "    return dydt\n",
    "start=0\n",
    "end=2\n",
    "t=np.linspace(start,end,end)\n",
    "\n",
    "P=sc.integrate.odeint(dydt,y0,t)\n",
    "\n",
    "plt.figure()\n",
    "plt.plot (t,P,'red')\n",
    "plt.title('y(t) vs t')"
   ]
  },
  {
   "cell_type": "code",
   "execution_count": 5,
   "id": "09153c73",
   "metadata": {},
   "outputs": [
    {
     "name": "stdout",
     "output_type": "stream",
     "text": [
      "value of x,y, and z resectively= [[ 4.5]\n",
      " [-7.5]\n",
      " [ 6.5]]\n"
     ]
    }
   ],
   "source": [
    "#question 2\n",
    "import numpy as np\n",
    "import scipy as sc\n",
    "A=np.array([[2, 4, 6], [5, 3, 2], [7, 8, 9]])\n",
    "B=np.array([[18], [13], [30]])\n",
    "answer=print (\"value of x,y, and z resectively=\",sc.linalg.solve(A,B))\n"
   ]
  },
  {
   "cell_type": "code",
   "execution_count": 9,
   "id": "b98e2140",
   "metadata": {},
   "outputs": [
    {
     "ename": "SyntaxError",
     "evalue": "invalid decimal literal (2064968500.py, line 6)",
     "output_type": "error",
     "traceback": [
      "\u001b[1;36m  Cell \u001b[1;32mIn[9], line 6\u001b[1;36m\u001b[0m\n\u001b[1;33m    url=https://api.open-meteo.com/v1/forecast?latitude=2.5&longitude=112.5&hourly=temperature_2m&timezone=Asia%2FSingapore&forecast_days=1\u001b[0m\n\u001b[1;37m                                                                                                                ^\u001b[0m\n\u001b[1;31mSyntaxError\u001b[0m\u001b[1;31m:\u001b[0m invalid decimal literal\n"
     ]
    }
   ],
   "source": [
    "#question 3\n",
    "import math\n",
    "import matplotlib.pyplot as plt\n",
    "try\n",
    "    def numbers_of_days_for_the_forecast(day_user):\n",
    "        url=https://api.open-meteo.com/v1/forecast?latitude=2.5&longitude=112.5&hourly=temperature_2m&timezone=Asia%2FSingapore&forecast_days=1\n",
    "        response=request.get(url)\n",
    "        forecast_data=response.json\n",
    "        \n",
    "        for item in forecast_data:\n",
    "            if item['hourly']=time\n",
    "        \n",
    "    temperature=numbers_of_days_for_the_forecast(day_user)\n",
    "    \n",
    "\n",
    "\n",
    "#plotting graph    \n",
    "plt.figure()\n",
    "hours=\n",
    "temperature=temperature_2m\n",
    "plt.sccatter(hours,temperature,color='blue')\n",
    "plt.grid()\n",
    "plt.xlabel('hours')\n",
    "plt.ylabel('temperature')\n",
    "    \n",
    "    \n"
   ]
  },
  {
   "cell_type": "code",
   "execution_count": 8,
   "id": "60c66c24",
   "metadata": {},
   "outputs": [
    {
     "ename": "SyntaxError",
     "evalue": "invalid decimal literal (1491077227.py, line 1)",
     "output_type": "error",
     "traceback": [
      "\u001b[1;36m  Cell \u001b[1;32mIn[8], line 1\u001b[1;36m\u001b[0m\n\u001b[1;33m    url=https://api.open-meteo.com/v1/forecast?latitude=2.5&longitude=112.5&hourly=temperature_2m&timezone=Asia%2FSingapore&forecast_days=(day_user)\u001b[0m\n\u001b[1;37m                                                                                                                ^\u001b[0m\n\u001b[1;31mSyntaxError\u001b[0m\u001b[1;31m:\u001b[0m invalid decimal literal\n"
     ]
    }
   ],
   "source": [
    "url=https://api.open-meteo.com/v1/forecast?latitude=2.5&longitude=112.5&hourly=temperature_2m&timezone=Asia%2FSingapore&forecast_days+(day_user)\n",
    "    day_user=int(input())"
   ]
  },
  {
   "cell_type": "code",
   "execution_count": null,
   "id": "1cfa5679",
   "metadata": {},
   "outputs": [],
   "source": []
  }
 ],
 "metadata": {
  "kernelspec": {
   "display_name": "Python 3 (ipykernel)",
   "language": "python",
   "name": "python3"
  },
  "language_info": {
   "codemirror_mode": {
    "name": "ipython",
    "version": 3
   },
   "file_extension": ".py",
   "mimetype": "text/x-python",
   "name": "python",
   "nbconvert_exporter": "python",
   "pygments_lexer": "ipython3",
   "version": "3.11.3"
  }
 },
 "nbformat": 4,
 "nbformat_minor": 5
}
