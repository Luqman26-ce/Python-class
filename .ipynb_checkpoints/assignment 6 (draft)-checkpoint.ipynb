{
 "cells": [
  {
   "cell_type": "markdown",
   "id": "2397d06a",
   "metadata": {},
   "source": [
    "# determine pipe head loss and pump power "
   ]
  },
  {
   "cell_type": "code",
   "execution_count": 2,
   "id": "7797cc79",
   "metadata": {},
   "outputs": [
    {
     "name": "stdout",
     "output_type": "stream",
     "text": [
      "volumetric flowrate (m^3/s)=0.006\n",
      "diameter (m)=0.05\n",
      "fluid density (kg/m^3)=999\n",
      "if kinematic viscosity 123E-4, please enter 123\n",
      "kinematic viscosity integer=1.138\n",
      "enter exponential value such as if 10E-3, please enter -3=-3\n",
      "pipe length (m)60\n",
      "roughness (mm)=0.002\n",
      "Head loss=9.71m\n",
      "pump power required to overcome the pipe head loss= 571.01W\n"
     ]
    }
   ],
   "source": [
    "import math\n",
    "pi=math.pi\n",
    "volumetric_flowrate = float(input('volumetric flowrate (m^3/s)='))\n",
    "diameter = float(input('diameter (m)='))\n",
    "radius=diameter/2\n",
    "r=radius\n",
    "fluid_density= float(input('fluid density (kg/m^3)='))\n",
    "print ('if kinematic viscosity 123E-4, please enter 123')\n",
    "kinematic_viscosity_integer_number= float(input(('kinematic viscosity integer=')))\n",
    "kinematic_viscosity_exponent_value=int(input('enter exponential value such as if 10E-3, please enter -3='))\n",
    "kinematic_viscosity=kinematic_viscosity_integer_number*10**kinematic_viscosity_exponent_value\n",
    "Length = int(input('pipe length (m)'))\n",
    "velocity= volumetric_flowrate/(pi*r**2) \n",
    "g= 9.81 #unit is ms-2\n",
    "\n",
    "# calculation of Reynolds number\n",
    "\n",
    "import math\n",
    "pi=math.pi\n",
    "Reynold_Numbers=(fluid_density*velocity*diameter)/kinematic_viscosity\n",
    "Re=Reynold_Numbers\n",
    "\n",
    "#calculation for friction factor based on explicit relation for f propossed by S.E. Halland in 1983\n",
    "\n",
    "roughness=float(input('roughness (mm)='))\n",
    "e_over_D=roughness/(diameter*10**3)\n",
    "q=(e_over_D/3.7)**1.1\n",
    "i=(6.9/Re)+q\n",
    "f=(-1.8*math.log(i,10))**-2\n",
    "\n",
    "#calculation of pressure drop\n",
    "\n",
    "pressure_drop=f*(Length/diameter)*(fluid_density*velocity**2)/2\n",
    "\n",
    "#calculation of pipe head loss\n",
    "head_loss= pressure_drop/(fluid_density*g)\n",
    "head_loss_2dp=\"{:.2f}\".format(head_loss)# to round up answer to 2 dp\n",
    "\n",
    "#calculation for pump power required to overcome the pipe head loss\n",
    "\n",
    "W=volumetric_flowrate*pressure_drop\n",
    "Pump_power=\"{:.2f}\".format(W) #to round up answer to 2 dp\n",
    "print('Head loss='+''+str(head_loss_2dp)+'m')\n",
    "print('pump power required to overcome the pipe head loss='+'',Pump_power+'W')\n",
    "\n",
    "\n"
   ]
  },
  {
   "cell_type": "code",
   "execution_count": null,
   "id": "9611b4e2",
   "metadata": {},
   "outputs": [],
   "source": []
  },
  {
   "cell_type": "code",
   "execution_count": null,
   "id": "f0bcdeb6",
   "metadata": {},
   "outputs": [],
   "source": []
  }
 ],
 "metadata": {
  "kernelspec": {
   "display_name": "Python 3 (ipykernel)",
   "language": "python",
   "name": "python3"
  },
  "language_info": {
   "codemirror_mode": {
    "name": "ipython",
    "version": 3
   },
   "file_extension": ".py",
   "mimetype": "text/x-python",
   "name": "python",
   "nbconvert_exporter": "python",
   "pygments_lexer": "ipython3",
   "version": "3.11.3"
  }
 },
 "nbformat": 4,
 "nbformat_minor": 5
}
