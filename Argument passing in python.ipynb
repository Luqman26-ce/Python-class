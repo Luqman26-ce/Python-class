{
 "cells": [
  {
   "cell_type": "code",
   "execution_count": 3,
   "id": "7600f697",
   "metadata": {},
   "outputs": [
    {
     "name": "stdout",
     "output_type": "stream",
     "text": [
      "Alice is enrolled in Mathematics class.\n",
      "Luqman is enrolled in Chemical Engineering class.\n"
     ]
    }
   ],
   "source": [
    "def student_information(class_name,student_name):\n",
    "# Display information about a student and their class.\n",
    " print(student_name + \" is enrolled in \" + class_name + \" class.\")\n",
    "# Positional arguments:\n",
    "student_information('Mathematics', 'Alice')\n",
    "student_information('Chemical Engineering','Luqman')"
   ]
  },
  {
   "cell_type": "markdown",
   "id": "c61ef7cc",
   "metadata": {},
   "source": [
    "function calling"
   ]
  },
  {
   "cell_type": "code",
   "execution_count": 8,
   "id": "c00be1be",
   "metadata": {},
   "outputs": [
    {
     "name": "stdout",
     "output_type": "stream",
     "text": [
      "Luqman is enrolled in Chemical Engineering class.\n"
     ]
    }
   ],
   "source": [
    "student_information(student_name=\"Luqman\",class_name=\"Chemical Engineering\")"
   ]
  },
  {
   "cell_type": "markdown",
   "id": "99e888b7",
   "metadata": {},
   "source": [
    "# Default arguments"
   ]
  },
  {
   "cell_type": "code",
   "execution_count": 1,
   "id": "48728068",
   "metadata": {},
   "outputs": [],
   "source": [
    "def enroll_student(student_name,class_name=\"Introduction to Python\"):\n",
    "    print(student_name + \"is enrolled in\")\n",
    " enroll_student(student_name=\"Hakim\")"
   ]
  },
  {
   "cell_type": "code",
   "execution_count": null,
   "id": "fb516410",
   "metadata": {},
   "outputs": [],
   "source": []
  }
 ],
 "metadata": {
  "kernelspec": {
   "display_name": "Python 3 (ipykernel)",
   "language": "python",
   "name": "python3"
  },
  "language_info": {
   "codemirror_mode": {
    "name": "ipython",
    "version": 3
   },
   "file_extension": ".py",
   "mimetype": "text/x-python",
   "name": "python",
   "nbconvert_exporter": "python",
   "pygments_lexer": "ipython3",
   "version": "3.11.3"
  }
 },
 "nbformat": 4,
 "nbformat_minor": 5
}
