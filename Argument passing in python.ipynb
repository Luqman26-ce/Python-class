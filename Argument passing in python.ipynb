{
 "cells": [
  {
   "cell_type": "code",
   "execution_count": 3,
   "id": "7a768bf1",
   "metadata": {},
   "outputs": [
    {
     "name": "stdout",
     "output_type": "stream",
     "text": [
      "Alice is enrolled in Mathematics class.\n",
      "Luqmanulhakim is enrolled in Chemical Engineering class.\n"
     ]
    }
   ],
   "source": [
    "def student_information(class_name,student_name):\n",
    "# Display information about a student and their class.\n",
    " print(student_name + \" is enrolled in \" + class_name + \" class.\")\n",
    "# Positional arguments:\n",
    "student_information('Mathematics', 'Alice')\n",
    "student_information('Chemical Engineering','Luqmanulhakim')"
   ]
  },
  {
   "cell_type": "markdown",
   "id": "1f18cd15",
   "metadata": {},
   "source": [
    "function calling"
   ]
  },
  {
   "cell_type": "code",
   "execution_count": 3,
   "id": "ed2aeace",
   "metadata": {},
   "outputs": [
    {
     "name": "stdout",
     "output_type": "stream",
     "text": [
      "Luqman is enrolled in Chemical Engineering class.\n"
     ]
    }
   ],
   "source": [
    "student_information(student_name=\"Luqman\",class_name=\"Chemical Engineering\")"
   ]
  },
  {
   "cell_type": "markdown",
   "id": "e3de2d6f",
   "metadata": {},
   "source": [
    "# Default arguments"
   ]
  },
  {
   "cell_type": "code",
   "execution_count": 7,
   "id": "1df31625",
   "metadata": {},
   "outputs": [
    {
     "name": "stdout",
     "output_type": "stream",
     "text": [
      "student name: Hakim\n",
      "course name: Introduction to Python\n",
      "student name: Fahmi\n",
      "course name: chemical engineering\n"
     ]
    }
   ],
   "source": [
    "def enroll_student(student_name,class_name=\"Introduction to Python\"):\n",
    "    print(\"student name: \"+ student_name)\n",
    "    print(\"course name: \" + class_name)\n",
    "enroll_student(student_name=\"Hakim\")\n",
    "enroll_student(student_name=\"Fahmi\", class_name='chemical engineering')\n",
    "    \n",
    "    "
   ]
  },
  {
   "cell_type": "code",
   "execution_count": null,
   "id": "0023ec63",
   "metadata": {},
   "outputs": [],
   "source": []
  }
 ],
 "metadata": {
  "kernelspec": {
   "display_name": "Python 3 (ipykernel)",
   "language": "python",
   "name": "python3"
  },
  "language_info": {
   "codemirror_mode": {
    "name": "ipython",
    "version": 3
   },
   "file_extension": ".py",
   "mimetype": "text/x-python",
   "name": "python",
   "nbconvert_exporter": "python",
   "pygments_lexer": "ipython3",
   "version": "3.11.3"
  }
 },
 "nbformat": 4,
 "nbformat_minor": 5
}
