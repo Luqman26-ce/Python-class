{
 "cells": [
  {
   "cell_type": "markdown",
   "id": "952a6f5b",
   "metadata": {},
   "source": [
    "# Write a Python script that allows a user to input the name of a state in Malaysia, and then returns the population of that state based on the provided dataset."
   ]
  },
  {
   "cell_type": "code",
   "execution_count": 5,
   "id": "ebe4f848",
   "metadata": {},
   "outputs": [
    {
     "name": "stdout",
     "output_type": "stream",
     "text": [
      "Enter the name of a state: Johor\n",
      "The population of Johor is 3794000\n"
     ]
    }
   ],
   "source": [
    "import requests\n",
    "\n",
    "def state_population(state):\n",
    "    api_url = \"https://jian.sh/malaysia-api/state/v1/all.json\"\n",
    "    response = requests.get(api_url)\n",
    "    malaysia_state_data = response.json()\n",
    "\n",
    "    for item in malaysia_state_data :\n",
    "        if item['state'] == state:\n",
    "            return item['population']\n",
    "    return \"is not found in the data\"\n",
    "        \n",
    "        \n",
    "state=input(\"Enter the name of a state: \")\n",
    "population = state_population(state)\n",
    "\n",
    "if population == \"state not found\":\n",
    "    print(population)\n",
    "else:\n",
    "    print(\"The population of \" + state + \" is \" + str(population))\n",
    "# why if item is changed to state, the data is not found\n"
   ]
  },
  {
   "cell_type": "code",
   "execution_count": null,
   "id": "d5cd0b6e",
   "metadata": {},
   "outputs": [],
   "source": []
  },
  {
   "cell_type": "code",
   "execution_count": null,
   "id": "6855bc31",
   "metadata": {},
   "outputs": [],
   "source": []
  }
 ],
 "metadata": {
  "kernelspec": {
   "display_name": "Python 3 (ipykernel)",
   "language": "python",
   "name": "python3"
  },
  "language_info": {
   "codemirror_mode": {
    "name": "ipython",
    "version": 3
   },
   "file_extension": ".py",
   "mimetype": "text/x-python",
   "name": "python",
   "nbconvert_exporter": "python",
   "pygments_lexer": "ipython3",
   "version": "3.11.3"
  }
 },
 "nbformat": 4,
 "nbformat_minor": 5
}
