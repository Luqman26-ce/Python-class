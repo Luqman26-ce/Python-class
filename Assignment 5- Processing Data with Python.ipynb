{
 "cells": [
  {
   "attachments": {},
   "cell_type": "markdown",
   "id": "13047cd6",
   "metadata": {},
   "source": [
    "# Write a Python script to process a CSV file named students.csv containing student records. Your script should filter out students based on their grades and produce a new CSV file with the resulting data."
   ]
  },
  {
   "cell_type": "code",
   "execution_count": 13,
   "id": "cc2bcdce",
   "metadata": {},
   "outputs": [],
   "source": [
    "import csv\n",
    "\n",
    "def process_students_file(input_file, output_file):\n",
    "# Read the CSV file\n",
    "    with open(input_file, mode='r') as file:\n",
    "        reader = csv.DictReader(file)\n",
    "# newline is not compulsory, there will be no error \n",
    "# Filter Data\n",
    "        filtered_students = []\n",
    "        for row in reader:\n",
    "            if row['Grade'] in ['A', 'B']: # Check if the grade is A or B\n",
    "                row['Status'] = 'Passed' # Add Status column\n",
    "                filtered_students.append(row)\n",
    "\n",
    "# Write to a new CSV file\n",
    "    if filtered_students:\n",
    "        with open(output_file, mode='w', newline='') as file:\n",
    "            writer = csv.DictWriter(file, fieldnames=filtered_students[0].keys())\n",
    "            writer.writeheader()\n",
    "            writer.writerows(filtered_students)\n",
    "\n",
    "process_students_file('students.csv', 'top_students.csv')"
   ]
  },
  {
   "cell_type": "code",
   "execution_count": 14,
   "id": "4f299fbe",
   "metadata": {},
   "outputs": [],
   "source": [
    "import csv\n",
    "\n",
    "def process_students_file(input_file, output_file):\n",
    "# Read the CSV file\n",
    "    with open(input_file, mode='r', newline='') as file:\n",
    "        reader = csv.DictReader(file)\n",
    "# newline is not compulsory, there will be no error \n",
    "#in this code, new line is added\n",
    "# Filter Data\n",
    "        filtered_students = []\n",
    "        for row in reader:\n",
    "            if row['Grade'] in ['A', 'B']: # Check if the grade is A or B\n",
    "                row['Status'] = 'Passed' # Add Status column\n",
    "                filtered_students.append(row)\n",
    "\n",
    "# Write to a new CSV file\n",
    "    if filtered_students:\n",
    "        with open(output_file, mode='w', newline='') as file:\n",
    "            writer = csv.DictWriter(file, fieldnames=filtered_students[0].keys())\n",
    "            writer.writeheader()\n",
    "            writer.writerows(filtered_students)\n",
    "\n",
    "process_students_file('students.csv', 'top_students_2.csv')\n",
    "#there is no difference when I added newline in my code here "
   ]
  }
 ],
 "metadata": {
  "kernelspec": {
   "display_name": "Python 3 (ipykernel)",
   "language": "python",
   "name": "python3"
  },
  "language_info": {
   "codemirror_mode": {
    "name": "ipython",
    "version": 3
   },
   "file_extension": ".py",
   "mimetype": "text/x-python",
   "name": "python",
   "nbconvert_exporter": "python",
   "pygments_lexer": "ipython3",
   "version": "3.11.3"
  }
 },
 "nbformat": 4,
 "nbformat_minor": 5
}
