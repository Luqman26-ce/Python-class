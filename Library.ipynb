{
 "cells": [
  {
   "cell_type": "code",
   "execution_count": null,
   "id": "86a44b7e",
   "metadata": {},
   "outputs": [],
   "source": []
  },
  {
   "cell_type": "code",
   "execution_count": 15,
   "id": "475bd664",
   "metadata": {},
   "outputs": [
    {
     "name": "stdout",
     "output_type": "stream",
     "text": [
      "Checkout Processed by:  Sarah Connor\n",
      "Books Checked Out:  ('1984', 'Brave New World')\n",
      "Checkout Duration:  3 weeks\n",
      "\n",
      "Additional Checkout Details: \n",
      "- Late fee: $ 0.25\n",
      "- Renewals Allowed:  2\n",
      "- Special Conditions for Checkout: \n"
     ]
    }
   ],
   "source": [
    "def checkout_books(librarian_name, *book_titles, duration='3 weeks', **kwargs):\n",
    "    # librarian_name: the name of the librarian processing the checkout\n",
    "    # book_titles: one or more titles of the books being checked out\n",
    "    # duration: the standard checkout duration, default to '2 weeks'\n",
    "    # kwargs: additional information about the checkout, such as late_fee or special_conditions\n",
    "\n",
    "    # print a message to confirm the checkout\n",
    "    print(\"Checkout Processed by: \" ,librarian_name)\n",
    "    # print the titles of the books\n",
    "    print(\"Books Checked Out: \" , book_titles)\n",
    "    # why it is printed in series not in stack form????\n",
    "    print (\"Checkout Duration: \", duration)\n",
    "    print(\"\")\n",
    "    print (\"Additional Checkout Details: \")\n",
    "    # print any additional information\n",
    "    if 'Late_fee' in kwargs:\n",
    "        Late_fee = kwargs['Late_fee']\n",
    "        print(\"- Late fee: $\", Late_fee)\n",
    "    if 'Renewals_Allowed' in kwargs:\n",
    "        Renewals_Allowed= kwargs ['Renewals_Allowed']\n",
    "        print(\"- Renewals Allowed: \",Renewals_Allowed)\n",
    "    if 'Special_conditions_for_checkout' in kwargs:\n",
    "        Special_conditions_for_checkout=kwargs['Special_conditions_for_checkout']\n",
    "        print(\"- Special Conditions for Checkout: \")\n",
    "checkout_books('Sarah Connor','1984','Brave New World',duration='3 weeks', Late_fee=0.25,Renewals_Allowed=2,Special_conditions_for_checkout='Handle with care')\n",
    "#why we cannot use duration only just like in default argument???\n"
   ]
  },
  {
   "cell_type": "code",
   "execution_count": null,
   "id": "6ba08561",
   "metadata": {},
   "outputs": [],
   "source": []
  }
 ],
 "metadata": {
  "kernelspec": {
   "display_name": "Python 3 (ipykernel)",
   "language": "python",
   "name": "python3"
  },
  "language_info": {
   "codemirror_mode": {
    "name": "ipython",
    "version": 3
   },
   "file_extension": ".py",
   "mimetype": "text/x-python",
   "name": "python",
   "nbconvert_exporter": "python",
   "pygments_lexer": "ipython3",
   "version": "3.11.3"
  }
 },
 "nbformat": 4,
 "nbformat_minor": 5
}
