{
 "cells": [
  {
   "cell_type": "code",
   "execution_count": null,
   "id": "1691b577",
   "metadata": {},
   "outputs": [
    {
     "name": "stdout",
     "output_type": "stream",
     "text": [
      "Select operation.\n",
      "1.Add\n",
      "2.Subtract\n",
      "3.Multiply\n",
      "4.Divide\n"
     ]
    }
   ],
   "source": [
    "def add(x, y):\n",
    "   return x + y\n",
    "\n",
    "def subtract(x,y):\n",
    "   return x - y\n",
    "\n",
    "def multiply(x, y):\n",
    "   return x * y\n",
    "\n",
    "def divide(x, y):\n",
    "   return x / y\n",
    "\n",
    "print(\"Select operation.\")\n",
    "print(\"1.Add\")\n",
    "print(\"2.Subtract\")\n",
    "print(\"3.Multiply\")\n",
    "print(\"4.Divide\")\n",
    "try:\n",
    "    choice = input(\"Enter choice(1/2/3/4):\")\n",
    "    num1 = int(input(\"Enter first number: \"))\n",
    "    num2 = int(input(\"Enter second number: \"))\n",
    "#if else must be indented and aligned with the previous code     \n",
    "    if choice == '1':\n",
    "        print(num1,\"+\",num2,\"=\", add(num1,num2))\n",
    "\n",
    "    elif choice == '2':\n",
    "        print(num1,\"-\",num2,\"=\", subtract(num1,num2))\n",
    "\n",
    "    elif choice == '3':\n",
    "        print(num1,\"*\",num2,\"=\", multiply(num1,num2))\n",
    "\n",
    "    elif choice == '4':\n",
    "        print(num1,\"/\",num2,\"=\", divide(num1,num2))\n",
    "    else:\n",
    "            print(\"Invalid input\")\n",
    "#put except at the last part of the coding         \n",
    "except ValueError:\n",
    "    print(\"please enter an integer\")\n",
    "\n",
    "except ZeroDivisionError:\n",
    "    print(\"please make sure denominator is not zero\")\n"
   ]
  },
  {
   "cell_type": "code",
   "execution_count": null,
   "id": "1fd72385",
   "metadata": {},
   "outputs": [],
   "source": []
  }
 ],
 "metadata": {
  "kernelspec": {
   "display_name": "Python 3 (ipykernel)",
   "language": "python",
   "name": "python3"
  },
  "language_info": {
   "codemirror_mode": {
    "name": "ipython",
    "version": 3
   },
   "file_extension": ".py",
   "mimetype": "text/x-python",
   "name": "python",
   "nbconvert_exporter": "python",
   "pygments_lexer": "ipython3",
   "version": "3.11.3"
  }
 },
 "nbformat": 4,
 "nbformat_minor": 5
}
